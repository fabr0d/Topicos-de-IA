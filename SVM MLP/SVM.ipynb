{
  "nbformat": 4,
  "nbformat_minor": 0,
  "metadata": {
    "kernelspec": {
      "display_name": "Python 3",
      "language": "python",
      "name": "python3"
    },
    "language_info": {
      "codemirror_mode": {
        "name": "ipython",
        "version": 3
      },
      "file_extension": ".py",
      "mimetype": "text/x-python",
      "name": "python",
      "nbconvert_exporter": "python",
      "pygments_lexer": "ipython3",
      "version": "3.7.7-final"
    },
    "colab": {
      "name": "SVM.ipynb",
      "provenance": []
    }
  },
  "cells": [
    {
      "cell_type": "code",
      "metadata": {
        "id": "Gns3xB_P4PaN"
      },
      "source": [
        "#SVM\n",
        "import pandas as pd\n",
        "import numpy as np\n",
        "import random \n",
        "import matplotlib.pyplot as plt\n",
        "\n",
        "from sklearn import svm\n",
        "\n",
        "dataset = [\"iris\",\n",
        "              \"titanic_train\"]"
      ],
      "execution_count": null,
      "outputs": []
    },
    {
      "cell_type": "code",
      "metadata": {
        "id": "8Ex63Qea4PaN"
      },
      "source": [
        "def LeerDatosC2(filename : str, separa : str, header = True):\n",
        "    if (header):\n",
        "        data = pd.read_csv(filename + \".csv\", sep =separa,usecols=['Sex', 'Age', 'Fare', 'Embarked','Survived'],header = 0)\n",
        "    else:\n",
        "        data = pd.read_csv(filename+ \".csv\", sep = separa,usecols=['Sex', 'Age', 'Fare', 'Embarked','Survived'],header = None)\n",
        "    data = data[['Sex', 'Age', 'Fare', 'Embarked','Survived']]\n",
        "    data = data.dropna()\n",
        "    data['Sex'] = data['Sex'].replace({'male':0,'female':1})\n",
        "    data['Embarked'] = data['Embarked'].replace({'Q':0,'S':1,'C':2})\n",
        "    data = data.sort_values(data.columns[-1])\n",
        "    return data.to_numpy()"
      ],
      "execution_count": null,
      "outputs": []
    },
    {
      "cell_type": "code",
      "metadata": {
        "id": "yroF7iMuGUSK"
      },
      "source": [
        "def LeerDatosC1(filename : str, separa : str, header = True):\n",
        "    if (header):\n",
        "        data = pd.read_csv(filename + \".csv\", sep =separa, header = 0)\n",
        "    else:\n",
        "        data = pd.read_csv(filename+ \".csv\", sep = separa, header = None)\n",
        "    #data = data.sample(frac = 1) #shuffle data\n",
        "    data = data.sort_values(data.columns[-1])\n",
        "    return data.to_numpy()"
      ],
      "execution_count": null,
      "outputs": []
    },
    {
      "cell_type": "code",
      "metadata": {
        "id": "IX4yxdpv4PaO"
      },
      "source": [
        "def Normalizar_Datos(data : np.array):\n",
        "    #normal = np.empty_like(data)\n",
        "    for i in range (0,np.size(data[0])):\n",
        "        media = np.mean(data[:,i])\n",
        "        desvi =np.std(data[:,i])\n",
        "        data[:,i] = (data[:,i] - media)/desvi\n",
        "    return data"
      ],
      "execution_count": null,
      "outputs": []
    },
    {
      "cell_type": "code",
      "metadata": {
        "id": "9H96NPql4PaO"
      },
      "source": [
        "def Crear_k_folds(data : np.array , k:int, clases: []):\n",
        "    folds = []\n",
        "    tot_clase = []\n",
        "    prop_clase = [] #Acumulado de indices\n",
        "    pre_fold = []\n",
        "\n",
        "    m = np.size(data[:,-1]) #numero de datos\n",
        "    #n = np.size(data[0])\n",
        "    for i in clases:\n",
        "        tot_clase.append(np.count_nonzero( data[:,-1] == i))\n",
        "\n",
        "    prop_clase.append(tot_clase[0])\n",
        "    for i in range (1, len(tot_clase)):\n",
        "        prop_clase.append( prop_clase[i-1] + tot_clase[i])\n",
        "\n",
        "    pos_ini = 0\n",
        "    for i in range(0, len(clases)):\n",
        "        pre_fold.append(np.array_split(data[pos_ini:prop_clase[i]], k))\n",
        "        pos_ini = prop_clase[i]\n",
        "    \n",
        "    for i in range (0,k):\n",
        "        temp = np.empty( (0,np.size(data[0])) )\n",
        "        for j in range(0,len(clases)):\n",
        "            temp = np.vstack( (temp,pre_fold[j][i]))\n",
        "        folds.append(temp)\n",
        "            \n",
        "    return folds"
      ],
      "execution_count": null,
      "outputs": []
    },
    {
      "cell_type": "code",
      "metadata": {
        "id": "z1ZlAg8i4PaO"
      },
      "source": [
        "def Calcular_Accuracy(X:np.array, y:np.array, model):\n",
        "    y_calc = model.predict(X)\n",
        "    #y_calc = OneShot_Salida(y_calc[len(y_calc)-1])\n",
        "    #print(y)\n",
        "    #print(y_calc)\n",
        "    aciertos = 0\n",
        "    \n",
        "    for i in range(0, len(y)):\n",
        "        if (y[i] == y_calc[i]):\n",
        "            aciertos += 1\n",
        "    #print(aciertos)\n",
        "    return aciertos/len(y)\n",
        "    \n",
        "def PromedioAccuracy(test:np.array, model, k, clases):\n",
        "    accu = np.zeros(k)\n",
        "    for i in range(0,k):\n",
        "        X_test = test[i][:,:-1]\n",
        "        #X_test = X_test.astype('float64')\n",
        "        #X_test = Normalizar_Datos(X_test)\n",
        "\n",
        "        y_test = TransformacionClases(test[i][:,-1], clases)\n",
        "\n",
        "        accu[i] = Calcular_Accuracy(X_test, y_test, model)\n",
        "    return accu.mean()"
      ],
      "execution_count": null,
      "outputs": []
    },
    {
      "cell_type": "code",
      "metadata": {
        "id": "8k3VC1w14PaO"
      },
      "source": [
        "def TransformacionClases(y:np.array, clases:[]):\n",
        "    num_clases = len(clases)\n",
        "    #vec_clases = np.empty((0), dtype = int)\n",
        "    vec_clases = []\n",
        "    for i in y:\n",
        "        idx = clases.index(i)\n",
        "        vec_clases.append(idx)\n",
        "    return vec_clases"
      ],
      "execution_count": null,
      "outputs": []
    },
    {
      "cell_type": "code",
      "metadata": {
        "id": "bziTzydM4PaO"
      },
      "source": [
        "def CalculoParametrosSVM(folds:[], k:int, C:float, kernel:str , clases:[]):\n",
        "    arr_costo = []\n",
        "    arr_theta = []\n",
        "    arr_test = []\n",
        "    for test_i in range(0, k):\n",
        "        test = folds[test_i] \n",
        "        train = np.zeros( (0,np.size(folds[0][0])) )\n",
        "        for train_i in range (0, k):         \n",
        "            if (train_i == test_i):\n",
        "                continue\n",
        "            else:\n",
        "                train = np.vstack( (train,folds[train_i]) )\n",
        "            \n",
        "        #costo = []\n",
        "        X_train = train[:,:-1]\n",
        "        #X_train = X_train.astype('float64')\n",
        "        #X_train = Normalizar_Datos(X_train)\n",
        "\n",
        "        y_train = TransformacionClases( train[:,-1], clases)\n",
        "        \n",
        "        model = svm.SVC(kernel = kernel, C=C, degree=2)\n",
        "        model.fit(X_train, y_train)\n",
        "        arr_test.append(test)\n",
        "      \n",
        "    return model, arr_test"
      ],
      "execution_count": null,
      "outputs": []
    },
    {
      "cell_type": "code",
      "metadata": {
        "id": "jXOVt0NJ4PaO"
      },
      "source": [
        "def BusquedaParametros(folds:[], k, num_clases, clases:[]):\n",
        "    kernels = ['linear', 'poly', 'rbf']\n",
        "    coef = np.arange(0.5,5.1,0.5)\n",
        "    arr_accu = np.empty( (len(kernels),len(coef) ))\n",
        "\n",
        "    for ker in range(0,len(kernels)):\n",
        "        for C in range(0, len(coef)):\n",
        "            model, test = CalculoParametrosSVM(folds, k, coef[C], kernels[ker], clases)\n",
        "\n",
        "            arr_accu[ker,C] = PromedioAccuracy(test, model, k, clases)\n",
        "\n",
        "    return pd.DataFrame(arr_accu, index = kernels, columns = coef)"
      ],
      "execution_count": null,
      "outputs": []
    },
    {
      "cell_type": "code",
      "metadata": {
        "id": "3nVIkhy54PaO"
      },
      "source": [
        "iris = LeerDatosC1(dataset[0], separa = ',')\n",
        "clases = [\"setosa\", \"versicolor\", \"virginica\"]\n",
        "iris_folds = Crear_k_folds(iris, 3, clases)\n",
        "#theta, arr_costo, arr_test = CalculoParametros(iris_folds, 3, 500, 0.1, 3, 3, 20, clases)\n"
      ],
      "execution_count": null,
      "outputs": []
    },
    {
      "cell_type": "code",
      "metadata": {
        "tags": [],
        "colab": {
          "base_uri": "https://localhost:8080/",
          "height": 136
        },
        "id": "4Dokalun4PaO",
        "outputId": "b42947dd-80e5-480f-9aa0-c2454e079959"
      },
      "source": [
        "BusquedaParametros(iris_folds, k=3, num_clases=3, clases=clases)"
      ],
      "execution_count": null,
      "outputs": [
        {
          "output_type": "execute_result",
          "data": {
            "text/html": [
              "<div>\n",
              "<style scoped>\n",
              "    .dataframe tbody tr th:only-of-type {\n",
              "        vertical-align: middle;\n",
              "    }\n",
              "\n",
              "    .dataframe tbody tr th {\n",
              "        vertical-align: top;\n",
              "    }\n",
              "\n",
              "    .dataframe thead th {\n",
              "        text-align: right;\n",
              "    }\n",
              "</style>\n",
              "<table border=\"1\" class=\"dataframe\">\n",
              "  <thead>\n",
              "    <tr style=\"text-align: right;\">\n",
              "      <th></th>\n",
              "      <th>0.5</th>\n",
              "      <th>1.0</th>\n",
              "      <th>1.5</th>\n",
              "      <th>2.0</th>\n",
              "      <th>2.5</th>\n",
              "      <th>3.0</th>\n",
              "      <th>3.5</th>\n",
              "      <th>4.0</th>\n",
              "      <th>4.5</th>\n",
              "      <th>5.0</th>\n",
              "    </tr>\n",
              "  </thead>\n",
              "  <tbody>\n",
              "    <tr>\n",
              "      <th>linear</th>\n",
              "      <td>0.986520</td>\n",
              "      <td>0.979575</td>\n",
              "      <td>0.979575</td>\n",
              "      <td>0.979575</td>\n",
              "      <td>0.979575</td>\n",
              "      <td>0.973039</td>\n",
              "      <td>0.973039</td>\n",
              "      <td>0.973039</td>\n",
              "      <td>0.973039</td>\n",
              "      <td>0.973039</td>\n",
              "    </tr>\n",
              "    <tr>\n",
              "      <th>poly</th>\n",
              "      <td>0.980261</td>\n",
              "      <td>0.993464</td>\n",
              "      <td>0.986520</td>\n",
              "      <td>0.986520</td>\n",
              "      <td>0.986520</td>\n",
              "      <td>0.986520</td>\n",
              "      <td>0.979575</td>\n",
              "      <td>0.979575</td>\n",
              "      <td>0.979575</td>\n",
              "      <td>0.973039</td>\n",
              "    </tr>\n",
              "    <tr>\n",
              "      <th>rbf</th>\n",
              "      <td>0.960114</td>\n",
              "      <td>0.967059</td>\n",
              "      <td>0.973595</td>\n",
              "      <td>0.973725</td>\n",
              "      <td>0.986928</td>\n",
              "      <td>0.993464</td>\n",
              "      <td>0.993464</td>\n",
              "      <td>0.993464</td>\n",
              "      <td>0.993464</td>\n",
              "      <td>0.993464</td>\n",
              "    </tr>\n",
              "  </tbody>\n",
              "</table>\n",
              "</div>"
            ],
            "text/plain": [
              "             0.5       1.0       1.5  ...       4.0       4.5       5.0\n",
              "linear  0.986520  0.979575  0.979575  ...  0.973039  0.973039  0.973039\n",
              "poly    0.980261  0.993464  0.986520  ...  0.979575  0.979575  0.973039\n",
              "rbf     0.960114  0.967059  0.973595  ...  0.993464  0.993464  0.993464\n",
              "\n",
              "[3 rows x 10 columns]"
            ]
          },
          "metadata": {
            "tags": []
          },
          "execution_count": 26
        }
      ]
    },
    {
      "cell_type": "code",
      "metadata": {
        "id": "n4dkc4Vz4PaP"
      },
      "source": [
        "titanic = LeerDatosC2(dataset[1], separa = ',')\n",
        "clases_titanic = [0,1]\n",
        "titanic_folds = Crear_k_folds(titanic, k=3, clases=clases_titanic)"
      ],
      "execution_count": null,
      "outputs": []
    },
    {
      "cell_type": "code",
      "metadata": {
        "colab": {
          "base_uri": "https://localhost:8080/"
        },
        "id": "Bkga1akI4PaQ",
        "outputId": "4882b5e4-cf1a-4372-aaa0-030b8964b948"
      },
      "source": [
        "BusquedaParametros(titanic_folds, k=3, num_clases=2, clases=clases_titanic)"
      ],
      "execution_count": null,
      "outputs": [
        {
          "output_type": "execute_result",
          "data": {
            "text/html": [
              "<div>\n",
              "<style scoped>\n",
              "    .dataframe tbody tr th:only-of-type {\n",
              "        vertical-align: middle;\n",
              "    }\n",
              "\n",
              "    .dataframe tbody tr th {\n",
              "        vertical-align: top;\n",
              "    }\n",
              "\n",
              "    .dataframe thead th {\n",
              "        text-align: right;\n",
              "    }\n",
              "</style>\n",
              "<table border=\"1\" class=\"dataframe\">\n",
              "  <thead>\n",
              "    <tr style=\"text-align: right;\">\n",
              "      <th></th>\n",
              "      <th>0.5</th>\n",
              "      <th>1.0</th>\n",
              "      <th>1.5</th>\n",
              "      <th>2.0</th>\n",
              "      <th>2.5</th>\n",
              "      <th>3.0</th>\n",
              "      <th>3.5</th>\n",
              "      <th>4.0</th>\n",
              "      <th>4.5</th>\n",
              "      <th>5.0</th>\n",
              "    </tr>\n",
              "  </thead>\n",
              "  <tbody>\n",
              "    <tr>\n",
              "      <th>linear</th>\n",
              "      <td>0.779492</td>\n",
              "      <td>0.779492</td>\n",
              "      <td>0.779492</td>\n",
              "      <td>0.779492</td>\n",
              "      <td>0.779492</td>\n",
              "      <td>0.779492</td>\n",
              "      <td>0.779492</td>\n",
              "      <td>0.779492</td>\n",
              "      <td>0.779492</td>\n",
              "      <td>0.779492</td>\n",
              "    </tr>\n",
              "    <tr>\n",
              "      <th>poly</th>\n",
              "      <td>0.630630</td>\n",
              "      <td>0.630630</td>\n",
              "      <td>0.630630</td>\n",
              "      <td>0.630630</td>\n",
              "      <td>0.630630</td>\n",
              "      <td>0.630630</td>\n",
              "      <td>0.630630</td>\n",
              "      <td>0.630630</td>\n",
              "      <td>0.630630</td>\n",
              "      <td>0.630630</td>\n",
              "    </tr>\n",
              "    <tr>\n",
              "      <th>rbf</th>\n",
              "      <td>0.672753</td>\n",
              "      <td>0.672753</td>\n",
              "      <td>0.669941</td>\n",
              "      <td>0.672742</td>\n",
              "      <td>0.674148</td>\n",
              "      <td>0.685388</td>\n",
              "      <td>0.682569</td>\n",
              "      <td>0.686783</td>\n",
              "      <td>0.688189</td>\n",
              "      <td>0.686783</td>\n",
              "    </tr>\n",
              "  </tbody>\n",
              "</table>\n",
              "</div>"
            ],
            "text/plain": [
              "             0.5       1.0       1.5  ...       4.0       4.5       5.0\n",
              "linear  0.779492  0.779492  0.779492  ...  0.779492  0.779492  0.779492\n",
              "poly    0.630630  0.630630  0.630630  ...  0.630630  0.630630  0.630630\n",
              "rbf     0.672753  0.672753  0.669941  ...  0.686783  0.688189  0.686783\n",
              "\n",
              "[3 rows x 10 columns]"
            ]
          },
          "metadata": {
            "tags": []
          },
          "execution_count": 28
        }
      ]
    },
    {
      "cell_type": "code",
      "metadata": {
        "id": "9ZB5CDPm4PaQ"
      },
      "source": [
        ""
      ],
      "execution_count": null,
      "outputs": []
    }
  ]
}